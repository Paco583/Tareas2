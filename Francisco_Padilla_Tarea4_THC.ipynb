{
  "nbformat": 4,
  "nbformat_minor": 0,
  "metadata": {
    "colab": {
      "provenance": []
    },
    "kernelspec": {
      "name": "python3",
      "display_name": "Python 3"
    },
    "language_info": {
      "name": "python"
    }
  },
  "cells": [
    {
      "cell_type": "markdown",
      "source": [
        "<font color=\"Red\" face=\"Comic Sans MS,arial\">\n",
        "  <h1 align=\"center\"><i>Tarea 4 de Python </i></h1>\n",
        "  </font>\n",
        "  \n",
        "> Elaborado por:\n",
        "\n",
        "> Miguel Ángel Carrillo Lucía. miguelcarrillo15@ciencias.unam.mx\n",
        "\n",
        "> Jesús Iván Coss Calderón. mat_ing_coss@ciencias.unam.mx"
      ],
      "metadata": {
        "id": "Acw5GbRohNTA"
      }
    },
    {
      "cell_type": "markdown",
      "source": [
        "**Objetivo general**\n",
        "\n",
        "* Demostrar los conocimientos adquiridos de bucles, listas y estructuras de control.\n",
        "\n",
        "**Objetivos particulares**\n",
        "\n",
        "* Aprender a resolver problemas prácticos usando python"
      ],
      "metadata": {
        "id": "-4IW6Nx2jBHt"
      }
    },
    {
      "cell_type": "markdown",
      "source": [
        "#**Ejercicio 1**:\n",
        "Diseña un programa que convierta dólares americanos a pesos mexicanos, euros, libras\n",
        "esterlinas, yuanes y rublos utilizando una tasa de cambio fija. Muestre la tasa de cambio e imprima los cinco resultados.\n"
      ],
      "metadata": {
        "id": "QZ7aCHF0TYtT"
      }
    },
    {
      "cell_type": "code",
      "source": [
        "print(\"Tipo de cambio: \")\n",
        "print(\"$1USD = $19.98MXN, €0.98EUR, £0.77GBP, ¥7.71CNY, $97.19RUB \")\n",
        "x = float(input(\"Ingrese la cantidad en dolares a convertir: \"))\n",
        "while x<0 or x == 0:\n",
        "  print(\"Ingrese una cantidad valida\")\n",
        "  x = float(input(\"Ingrese la cantidad en dolares a convertir: \"))\n",
        "else:\n",
        "  peso = x * 19.98\n",
        "  euro = x * 0.98\n",
        "  le = x * 0.77\n",
        "  yuan = x * 7.71\n",
        "  rublo = x * 97.19\n",
        "  print(\"$\",x,\"USD son:\")\n",
        "  print(\"$\",peso,\"MXN \",\"€\",euro,\"EUR \",\"£\",le,\"GBP \",\"¥\",yuan,\"CNY \",\"$\",rublo,\"RUB\")"
      ],
      "metadata": {
        "id": "TBR-3raL8Epc",
        "outputId": "214c9f85-058a-48a8-909f-62c83d645e67",
        "colab": {
          "base_uri": "https://localhost:8080/"
        }
      },
      "execution_count": null,
      "outputs": [
        {
          "output_type": "stream",
          "name": "stdout",
          "text": [
            "Tipo de cambio: \n",
            "$1USD = $19.98MXN, €0.98EUR, £0.77GBP, ¥7.71CNY, $97.19RUB \n",
            "Ingrese la cantidad en dolares a convertir: 1\n",
            "$ 1.0 USD son:\n",
            "$ 19.98 MXN  € 0.98 EUR  £ 0.77 GBP  ¥ 7.71 CNY  $ 97.19 RUB\n"
          ]
        }
      ]
    },
    {
      "cell_type": "markdown",
      "source": [
        "#**Ejercicio 2**:\n",
        "Escribe un programa que pida al usuario su edad y clasifique la entrada en 'niño',\n",
        " 'adolescente', 'adulto' o 'adulto mayor'."
      ],
      "metadata": {
        "id": "G-aCihICT7hi"
      }
    },
    {
      "cell_type": "code",
      "source": [
        "edad = int(input(\"Ingrese su edad:\"))\n",
        "while edad < 0 or edad > 116:\n",
        "  print(\"Su edad no es valida\")\n",
        "  edad = input(\"Ingrese su edad\")\n",
        "else:\n",
        "  if edad < 12:\n",
        "    print(\"Usted es un niño\")\n",
        "  else:\n",
        "    if edad < 18:\n",
        "      print(\"Usted es un adolcente\")\n",
        "    else:\n",
        "      if edad < 60:\n",
        "        print(\"Usted es un adulto\")\n",
        "      else:\n",
        "        print(\"Usted es un adulto mayor\")\n"
      ],
      "metadata": {
        "id": "LeEsrq4p8FOs",
        "outputId": "8c61d01f-f5ab-44b8-9ff9-ed44ee2922ea",
        "colab": {
          "base_uri": "https://localhost:8080/"
        }
      },
      "execution_count": null,
      "outputs": [
        {
          "output_type": "stream",
          "name": "stdout",
          "text": [
            "Ingrese su edad:20\n",
            "Usted es un adulto\n"
          ]
        }
      ]
    },
    {
      "cell_type": "markdown",
      "source": [
        "#**Ejercicio 3**:\n",
        "Desarrolla un programa que calcule el precio final de un producto después de aplicar un descuento.\n",
        " El usuario debe ingresar el precio original y el porcentaje de descuento. Imprima el precio final."
      ],
      "metadata": {
        "id": "oM_h9APNTIW9"
      }
    },
    {
      "cell_type": "code",
      "source": [
        "precio = float(input(\"Ingrese el precio de su producto: \"))\n",
        "while precio < 0 or precio == 0:\n",
        "  print(\"El precio no es valido\")\n",
        "  precio = float(input(\"Ingrese el precio de su producto: \"))\n",
        "else:\n",
        "  descuento = float(input(\"Ingrese el descuento a aplicar: \"))\n",
        "  while descuento < 0 or descuento == 0:\n",
        "    print(\"Su descuento no es  valido\")\n",
        "    descuento = float(input(\"Ingrese un descuento valido: \"))\n",
        "  else:\n",
        "    dinero_descontado = precio * (descuento / 100)\n",
        "    precio_final = precio - dinero_descontado\n",
        "    print(\"El costo del producto aplicando un descuento del\",descuento,\"% es de:\",precio_final,\"pesos\")"
      ],
      "metadata": {
        "id": "ay0KWLXf8F5k",
        "outputId": "337062d7-f47c-4833-8e66-b84a264a491e",
        "colab": {
          "base_uri": "https://localhost:8080/"
        }
      },
      "execution_count": null,
      "outputs": [
        {
          "output_type": "stream",
          "name": "stdout",
          "text": [
            "Ingrese el precio de su producto: -1\n",
            "El precio no es valido\n",
            "Ingrese el precio de su producto: 100\n",
            "Ingrese el descuento a aplicar: -20\n",
            "Su descuento no es  valido\n",
            "Ingrese un descuento valido: 10 \n",
            "El costo del producto aplicando un descuento del 10.0 % es de: 90.0 pesos\n"
          ]
        }
      ]
    },
    {
      "cell_type": "markdown",
      "source": [
        "#**Ejercicio 4**:\n",
        "Crea un script que determine cuál de tres números introducidos por el usuario es el mayor,\n",
        "usando sentencias IF anidadas o múltiples ELIF."
      ],
      "metadata": {
        "id": "pXTw_US7UIhy"
      }
    },
    {
      "cell_type": "code",
      "source": [
        "print(\"Ingrese 3 numeros diferentes\")\n",
        "a = float(input(\"Primer numero: \"))\n",
        "b = float(input(\"Segundo numero: \"))\n",
        "c = float(input(\"Tercer numero: \"))\n",
        "while a == b or a == c or c == b:\n",
        "  print(\"Hay nuemeros reptidos, ingrese 3 numeros diferentes: \")\n",
        "  a = float(input(\"Primer numero: \"))\n",
        "  b = float(input(\"Segundo numero: \"))\n",
        "  c = float(input(\"Tercer numero: \"))\n",
        "else:\n",
        "  if b<a and c<a:\n",
        "    print(a,\"Es el numero mayor de la lista\")\n",
        "  elif a<b and c<b:\n",
        "    print(b,\"Es el numero mayor de la lista\")\n",
        "  elif b<c and a<c:\n",
        "    print(c,\"Es el numero mayor de la lista\")"
      ],
      "metadata": {
        "id": "iyJa4HNsWA70",
        "outputId": "18ce917c-fe34-4a6e-bfa1-344ccedafaad",
        "colab": {
          "base_uri": "https://localhost:8080/"
        }
      },
      "execution_count": null,
      "outputs": [
        {
          "output_type": "stream",
          "name": "stdout",
          "text": [
            "Ingrese 3 numeros diferentes\n",
            "Primer numero: -2 \n",
            "Segundo numero: -100\n",
            "Tercer numero: 1\n",
            "1.0 Es el numero mayor de la lista\n"
          ]
        }
      ]
    },
    {
      "cell_type": "markdown",
      "source": [
        "#**Ejercicio 5**:\n",
        "Programe una función que resuelva ecuaciones de segundo grado utilizando la fórmula general.\n",
        "El usuario debe ingresar los valores de a, b y c. Genere valores por default por si el usuario no ingresa\n",
        "un número entero o flotante. Además, calcule el valor del discriminante\n",
        "(b^2 - 4ac) y determine si tiene soluciones reales, soluciones complejas. Imprima el resultado."
      ],
      "metadata": {
        "id": "LJgQNYz1Tmaj"
      }
    },
    {
      "cell_type": "code",
      "source": [
        "import math"
      ],
      "metadata": {
        "id": "SVLhDH2CaOE8"
      },
      "execution_count": null,
      "outputs": []
    },
    {
      "cell_type": "code",
      "source": [
        "a = int(input(\"Ingrese el valor a de su ecuacion: \"))\n",
        "b = int(input(\"Ingrese el valor b de su ecuacion: \"))\n",
        "c = int(input(\"Ingrese el valor c de su ecuacion: \"))\n",
        "\n",
        "discriminante = b**2 - 4*a*c\n",
        "if discriminante < 0:\n",
        "  discriminante = discriminante * -1\n",
        "  print(\"Su ecuacion no tiene soluciones reales!\")\n",
        "  print(\"Las soluciones de su ecuacion son:\")\n",
        "  x = -b/(2*a)\n",
        "  i = (math.sqrt(discriminante))/(2*a)\n",
        "  print(\"x1 =\",x,\"+\",i,\"i\")\n",
        "  print(\"x2 =\",x,\"-\",i,\"i\")\n",
        "else:\n",
        "  print(\"Su ecuacion tiene soluciones reales!\")\n",
        "  print(\"Las soluciones de su ecuacion son:\")\n",
        "  x1r = (-b + math.sqrt(discriminante))/(2*a)\n",
        "  x2r = (-b - math.sqrt(discriminante))/(2*a)\n",
        "  print(\"x1 =\",x1r)\n",
        "  print(\"x2 =\",x2r)\n"
      ],
      "metadata": {
        "id": "bMOFAjrmVsnr",
        "outputId": "04585ace-809e-4968-e7a7-169916e82abb",
        "colab": {
          "base_uri": "https://localhost:8080/"
        }
      },
      "execution_count": null,
      "outputs": [
        {
          "output_type": "stream",
          "name": "stdout",
          "text": [
            "Ingrese el valor a de su ecuacion: 1\n",
            "Ingrese el valor b de su ecuacion: 2\n",
            "Ingrese el valor c de su ecuacion: 1\n",
            "Su ecuacion tiene soluciones reales!\n",
            "Las soluciones de su ecuacion son:\n",
            "x1 = -1.0\n",
            "x2 = -1.0\n"
          ]
        }
      ]
    },
    {
      "cell_type": "code",
      "source": [
        "def ec(a,b,c):\n",
        "  discriminante = b**2 - 4*a*c\n",
        "  if discriminante < 0:\n",
        "    discriminante = discriminante * -1\n",
        "    print(\"Su ecuacion no tiene soluciones reales!\")\n",
        "    print(\"Las soluciones de su ecuacion son:\")\n",
        "    x = -b/(2*a)\n",
        "    i1 = (math.sqrt(discriminante))/(2*a)\n",
        "    i2 = -(math.sqrt(discriminante))/(2*a)\n",
        "    print(\"x1 = \"+str(x)+\"+\"+str(i1)+\"i\")\n",
        "    print(\"x2 = \"+str(x)+\"-\"+str(i1)+\"i\")\n",
        "  else:\n",
        "    print(\"Su ecuacion tiene soluciones reales!\")\n",
        "    print(\"Las soluciones de su ecuacion son:\")\n",
        "    x = -b/(2*a)\n",
        "    i1 = x + (math.sqrt(discriminante))/(2*a)\n",
        "    i2 = x + (math.sqrt(discriminante))/(2*a)\n",
        "    print(\"x1 =\"+str(i1))\n",
        "    print(\"x2 =\"+str(i2))\n",
        "  return x, i1, i2\n",
        "\n",
        "\n",
        "a = int(input(\"Ingrese el valor a de su ecuacion: \"))\n",
        "b = int(input(\"Ingrese el valor b de su ecuacion: \"))\n",
        "c = int(input(\"Ingrese el valor c de su ecuacion: \"))\n",
        "\n",
        "a, b, c = ec(a,b,c)\n",
        "\n"
      ],
      "metadata": {
        "id": "YTjNBm6DXWnG",
        "outputId": "2955b075-97d6-477e-920e-08f85a16cfd2",
        "colab": {
          "base_uri": "https://localhost:8080/"
        }
      },
      "execution_count": null,
      "outputs": [
        {
          "output_type": "stream",
          "name": "stdout",
          "text": [
            "Ingrese el valor a de su ecuacion: 1\n",
            "Ingrese el valor b de su ecuacion: 1\n",
            "Ingrese el valor c de su ecuacion: 1\n",
            "Su ecuacion no tiene soluciones reales!\n",
            "Las soluciones de su ecuacion son:\n",
            "x1 = -0.5+0.8660254037844386i\n",
            "x1 = -0.5-0.8660254037844386i\n"
          ]
        }
      ]
    },
    {
      "cell_type": "markdown",
      "source": [
        "#**Ejercicio 6**\n",
        "\n",
        " Escriba una función que reciba una lista de números y devuelva dos listas: una con los números positivos y otra con los negativos."
      ],
      "metadata": {
        "id": "1VC6sG1wix_2"
      }
    },
    {
      "cell_type": "code",
      "source": [
        "def filtro_nums(numeros):\n",
        "  positivos = []\n",
        "  negativos = []\n",
        "  while len(numeros)>0:\n",
        "    if numeros[0] < 0:\n",
        "      negativos.append(numeros[0])\n",
        "      numeros.remove(numeros[0])\n",
        "    elif numeros[0] > 0:\n",
        "      positivos.append(numeros[0])\n",
        "      numeros.remove(numeros[0])\n",
        "  return positivos, negativos\n",
        "\n",
        "numeros = [-3,-2,-1,1,2,3]\n",
        "positivos, negativos = filtro_nums(numeros)\n",
        "\n",
        "print(positivos, negativos)"
      ],
      "metadata": {
        "id": "j-nKpLKG8HdU",
        "outputId": "6a2d6e18-a653-4ebe-cd73-b264ec3d12ce",
        "colab": {
          "base_uri": "https://localhost:8080/"
        }
      },
      "execution_count": null,
      "outputs": [
        {
          "output_type": "stream",
          "name": "stdout",
          "text": [
            "[1, 2, 3] [-3, -2, -1]\n"
          ]
        }
      ]
    },
    {
      "cell_type": "markdown",
      "source": [
        "#**Ejercicio 7**\n",
        "\n",
        "Escriba una función que reciba una lista de datos (la de abajo) y devuelva listas con los datos filtrados. Este programa debe separar los datos en **int**, **str**, **bool**, **float**. **Hint**: use la función **append** para insertar datos en las listas."
      ],
      "metadata": {
        "id": "B3DOqZgpjxMf"
      }
    },
    {
      "cell_type": "code",
      "source": [
        "datos= [5, 2.4, \"hola\", 7, 10, 3.14,True,False, \"Hi\", 0, 0.265]"
      ],
      "metadata": {
        "id": "5zQMRLNYis12",
        "outputId": "63a5a12c-0bac-42b5-e452-69a0a89ca6cd",
        "colab": {
          "base_uri": "https://localhost:8080/"
        }
      },
      "execution_count": null,
      "outputs": [
        {
          "output_type": "stream",
          "name": "stdout",
          "text": [
            "hola\n",
            "[5, 2.4, 'hola', 7, 10, 3.14, True, False, 'Hi', 0, 0.265]\n"
          ]
        }
      ]
    },
    {
      "cell_type": "code",
      "source": [
        "def filtro(datos):\n",
        "  enteros = []\n",
        "  flotantes = []\n",
        "  cadena = []\n",
        "  booleano = []\n",
        "\n",
        "  while len(datos)>0:\n",
        "    if type(datos[0]) == int:\n",
        "      enteros.append(datos[0])\n",
        "      datos.remove(datos[0])\n",
        "\n",
        "    elif type(datos[0]) == str:\n",
        "      cadena.append(datos[0])\n",
        "      datos.remove(datos[0])\n",
        "\n",
        "    elif type(datos[0]) == bool:\n",
        "      booleano.append(datos[0])\n",
        "      datos.remove(datos[0])\n",
        "\n",
        "    else:\n",
        "      flotantes.append(datos[0])\n",
        "      datos.remove(datos[0])\n",
        "  return enteros, flotantes, cadena, booleano\n",
        "\n",
        "datos=[5, 2.4, \"hola\", 7, 10, 3.14,True,False, \"Hi\", 0, 0.265]\n",
        "enteros, flotantes, cadena, booleano = filtro(datos)\n",
        "\n",
        "print(\"int =\",enteros)\n",
        "print(\"str =\",cadena)\n",
        "print(\"bool =\",booleano)\n",
        "print(\"float =\",flotantes)"
      ],
      "metadata": {
        "id": "1s4jQhfnGdNa",
        "outputId": "0fd81ecc-f501-45eb-ff21-c5ece0d6cd9a",
        "colab": {
          "base_uri": "https://localhost:8080/"
        }
      },
      "execution_count": null,
      "outputs": [
        {
          "output_type": "stream",
          "name": "stdout",
          "text": [
            "int = [5, 7, 10, 0]\n",
            "str = ['hola', 'Hi']\n",
            "bool = [True, False]\n",
            "float = [2.4, 3.14, 0.265]\n"
          ]
        }
      ]
    },
    {
      "cell_type": "markdown",
      "source": [
        "#**Ejercicio 8**:\n",
        "\n",
        "Imprimir pirámide de asteriscos\n",
        "Descripción: Crea una función que imprima una pirámide de asteriscos usando bucles anidados, donde el número de niveles de la pirámide sea un valor dado."
      ],
      "metadata": {
        "id": "Q7XYGpfGkuD4"
      }
    },
    {
      "cell_type": "code",
      "source": [
        "def piramide_asteriscos(niveles):\n",
        "  for i in range(niveles):\n",
        "    espacios = ' ' * (niveles - i - 1)\n",
        "    asteriscos = '*' * (2 * i + 1)\n",
        "    print(espacios + asteriscos)\n",
        "\n",
        "piramide_asteriscos(5)\n",
        "# Resultado:\n",
        "# *\n",
        "# **\n",
        "# ***\n",
        "# ****\n",
        "# *****\n"
      ],
      "metadata": {
        "colab": {
          "base_uri": "https://localhost:8080/"
        },
        "id": "lKlZ67KRkXwn",
        "outputId": "2443a506-1838-4a65-e6fd-bee57645d001"
      },
      "execution_count": null,
      "outputs": [
        {
          "output_type": "stream",
          "name": "stdout",
          "text": [
            "    *\n",
            "   ***\n",
            "  *****\n",
            " *******\n",
            "*********\n"
          ]
        }
      ]
    },
    {
      "cell_type": "markdown",
      "source": [
        "#**Ejercicio 9**:\n",
        "\n",
        "Escriba una función que calcule el factorial de un número, el cual debe ser ingresado por el usuario, después usted debe validar que sea un número natural mayor o igual a cero y en caso de que ingrese un número negativo, una letra o cadena, debe pedir nuevamente el número al usuario."
      ],
      "metadata": {
        "id": "xL6YMsdClOy9"
      }
    },
    {
      "cell_type": "code",
      "source": [
        "x = input(\"hola: \")\n",
        "print(type(x))"
      ],
      "metadata": {
        "id": "H4rLeATR-79V",
        "outputId": "5a83ee6f-3c7b-4482-bd98-071a1002917d",
        "colab": {
          "base_uri": "https://localhost:8080/"
        }
      },
      "execution_count": null,
      "outputs": [
        {
          "output_type": "stream",
          "name": "stdout",
          "text": [
            "hola: 2\n",
            "<class 'str'>\n"
          ]
        }
      ]
    },
    {
      "cell_type": "code",
      "source": [
        "num = input(\"Ingrese un numero natural mayor a 0: \")\n",
        "while type(num) == str or num < 0:\n",
        "  print(\"Respuesta no valida\")\n",
        "  num = int(input(\"Ingrese un numero natural mayor a 0: \"))\n",
        "if num > 0 or num == 0 :\n",
        "  if num == 0:\n",
        "    fact = 1\n",
        "    print(\"El factorial de \"+str(num) + \" es \"+str(fact))\n",
        "  else:\n",
        "      fact = 1\n",
        "      for i in range(1,num+1):\n",
        "        fact=i*fact\n",
        "      print(\"El factorial de \"+str(num)+\" es\",fact)"
      ],
      "metadata": {
        "id": "JYhyNp21l43j",
        "outputId": "adc95541-01cb-4a88-8d17-6b509f20c9ae",
        "colab": {
          "base_uri": "https://localhost:8080/",
          "height": 391
        }
      },
      "execution_count": null,
      "outputs": [
        {
          "output_type": "stream",
          "name": "stdout",
          "text": [
            "Ingrese un numero natural mayor a 0: 0 \n",
            "Respuesta no valida\n"
          ]
        },
        {
          "output_type": "error",
          "ename": "KeyboardInterrupt",
          "evalue": "Interrupted by user",
          "traceback": [
            "\u001b[0;31m---------------------------------------------------------------------------\u001b[0m",
            "\u001b[0;31mKeyboardInterrupt\u001b[0m                         Traceback (most recent call last)",
            "\u001b[0;32m<ipython-input-2-a69bd95e2eb6>\u001b[0m in \u001b[0;36m<cell line: 2>\u001b[0;34m()\u001b[0m\n\u001b[1;32m      2\u001b[0m \u001b[0;32mwhile\u001b[0m \u001b[0mtype\u001b[0m\u001b[0;34m(\u001b[0m\u001b[0mnum\u001b[0m\u001b[0;34m)\u001b[0m \u001b[0;34m==\u001b[0m \u001b[0mstr\u001b[0m \u001b[0;32mor\u001b[0m \u001b[0mnum\u001b[0m \u001b[0;34m<\u001b[0m \u001b[0;36m0\u001b[0m\u001b[0;34m:\u001b[0m\u001b[0;34m\u001b[0m\u001b[0;34m\u001b[0m\u001b[0m\n\u001b[1;32m      3\u001b[0m   \u001b[0mprint\u001b[0m\u001b[0;34m(\u001b[0m\u001b[0;34m\"Respuesta no valida\"\u001b[0m\u001b[0;34m)\u001b[0m\u001b[0;34m\u001b[0m\u001b[0;34m\u001b[0m\u001b[0m\n\u001b[0;32m----> 4\u001b[0;31m   \u001b[0mnum\u001b[0m \u001b[0;34m=\u001b[0m \u001b[0mint\u001b[0m\u001b[0;34m(\u001b[0m\u001b[0minput\u001b[0m\u001b[0;34m(\u001b[0m\u001b[0;34m\"Ingrese un numero natural mayor a 0: \"\u001b[0m\u001b[0;34m)\u001b[0m\u001b[0;34m)\u001b[0m\u001b[0;34m\u001b[0m\u001b[0;34m\u001b[0m\u001b[0m\n\u001b[0m\u001b[1;32m      5\u001b[0m \u001b[0;32mif\u001b[0m \u001b[0mnum\u001b[0m \u001b[0;34m>\u001b[0m \u001b[0;36m0\u001b[0m \u001b[0;32mor\u001b[0m \u001b[0mnum\u001b[0m \u001b[0;34m==\u001b[0m \u001b[0;36m0\u001b[0m \u001b[0;34m:\u001b[0m\u001b[0;34m\u001b[0m\u001b[0;34m\u001b[0m\u001b[0m\n\u001b[1;32m      6\u001b[0m   \u001b[0;32mif\u001b[0m \u001b[0mnum\u001b[0m \u001b[0;34m==\u001b[0m \u001b[0;36m0\u001b[0m\u001b[0;34m:\u001b[0m\u001b[0;34m\u001b[0m\u001b[0;34m\u001b[0m\u001b[0m\n",
            "\u001b[0;32m/usr/local/lib/python3.10/dist-packages/ipykernel/kernelbase.py\u001b[0m in \u001b[0;36mraw_input\u001b[0;34m(self, prompt)\u001b[0m\n\u001b[1;32m    849\u001b[0m                 \u001b[0;34m\"raw_input was called, but this frontend does not support input requests.\"\u001b[0m\u001b[0;34m\u001b[0m\u001b[0;34m\u001b[0m\u001b[0m\n\u001b[1;32m    850\u001b[0m             )\n\u001b[0;32m--> 851\u001b[0;31m         return self._input_request(str(prompt),\n\u001b[0m\u001b[1;32m    852\u001b[0m             \u001b[0mself\u001b[0m\u001b[0;34m.\u001b[0m\u001b[0m_parent_ident\u001b[0m\u001b[0;34m,\u001b[0m\u001b[0;34m\u001b[0m\u001b[0;34m\u001b[0m\u001b[0m\n\u001b[1;32m    853\u001b[0m             \u001b[0mself\u001b[0m\u001b[0;34m.\u001b[0m\u001b[0m_parent_header\u001b[0m\u001b[0;34m,\u001b[0m\u001b[0;34m\u001b[0m\u001b[0;34m\u001b[0m\u001b[0m\n",
            "\u001b[0;32m/usr/local/lib/python3.10/dist-packages/ipykernel/kernelbase.py\u001b[0m in \u001b[0;36m_input_request\u001b[0;34m(self, prompt, ident, parent, password)\u001b[0m\n\u001b[1;32m    893\u001b[0m             \u001b[0;32mexcept\u001b[0m \u001b[0mKeyboardInterrupt\u001b[0m\u001b[0;34m:\u001b[0m\u001b[0;34m\u001b[0m\u001b[0;34m\u001b[0m\u001b[0m\n\u001b[1;32m    894\u001b[0m                 \u001b[0;31m# re-raise KeyboardInterrupt, to truncate traceback\u001b[0m\u001b[0;34m\u001b[0m\u001b[0;34m\u001b[0m\u001b[0m\n\u001b[0;32m--> 895\u001b[0;31m                 \u001b[0;32mraise\u001b[0m \u001b[0mKeyboardInterrupt\u001b[0m\u001b[0;34m(\u001b[0m\u001b[0;34m\"Interrupted by user\"\u001b[0m\u001b[0;34m)\u001b[0m \u001b[0;32mfrom\u001b[0m \u001b[0;32mNone\u001b[0m\u001b[0;34m\u001b[0m\u001b[0;34m\u001b[0m\u001b[0m\n\u001b[0m\u001b[1;32m    896\u001b[0m             \u001b[0;32mexcept\u001b[0m \u001b[0mException\u001b[0m \u001b[0;32mas\u001b[0m \u001b[0me\u001b[0m\u001b[0;34m:\u001b[0m\u001b[0;34m\u001b[0m\u001b[0;34m\u001b[0m\u001b[0m\n\u001b[1;32m    897\u001b[0m                 \u001b[0mself\u001b[0m\u001b[0;34m.\u001b[0m\u001b[0mlog\u001b[0m\u001b[0;34m.\u001b[0m\u001b[0mwarning\u001b[0m\u001b[0;34m(\u001b[0m\u001b[0;34m\"Invalid Message:\"\u001b[0m\u001b[0;34m,\u001b[0m \u001b[0mexc_info\u001b[0m\u001b[0;34m=\u001b[0m\u001b[0;32mTrue\u001b[0m\u001b[0;34m)\u001b[0m\u001b[0;34m\u001b[0m\u001b[0;34m\u001b[0m\u001b[0m\n",
            "\u001b[0;31mKeyboardInterrupt\u001b[0m: Interrupted by user"
          ]
        }
      ]
    },
    {
      "cell_type": "code",
      "source": [
        "def factorial(num):\n",
        "  if num == 0:\n",
        "    fact = 1\n",
        "    print(\"El factorial de \"+str(num) + \" es \"+str(fact))\n",
        "  else:\n",
        "    fact = 1\n",
        "    for i in range(1,num+1):\n",
        "      fact=i*fact\n",
        "    print(\"El factorial de \"+str(num) + \" es \"+str(fact))\n",
        "  return fact\n",
        "\n",
        "num = input(\"Ingrese un numero natural:\")\n",
        "while type(num) == str or num < 0:\n",
        "  print(\"Su numero no es valido\")\n",
        "  num = input(\"Ingrese un numero natural:\")\n",
        "else:\n",
        "  num = factorial(num)\n"
      ],
      "metadata": {
        "colab": {
          "base_uri": "https://localhost:8080/"
        },
        "id": "bTtqy7HhjZJC",
        "outputId": "05185887-6bc8-4eee-ae8b-038b4963b795"
      },
      "execution_count": null,
      "outputs": [
        {
          "output_type": "stream",
          "name": "stdout",
          "text": [
            "Ingrese un numero natural:2\n",
            "Su numero no es valido\n",
            "Ingrese un numero natural:1\n",
            "Su numero no es valido\n",
            "Ingrese un numero natural:3\n",
            "Su numero no es valido\n",
            "Ingrese un numero natural:4\n",
            "Su numero no es valido\n"
          ]
        }
      ]
    },
    {
      "cell_type": "markdown",
      "source": [
        "#**Ejercicio 10**:\n",
        "Programar una función que calcule la distancia entre dos puntos en el plano cartesiano,\n",
        "dadas sus coordenadas (x1, y1) y (x2, y2)."
      ],
      "metadata": {
        "id": "8z6e_aduTxWh"
      }
    },
    {
      "cell_type": "code",
      "source": [
        "import math\n",
        "def distancia(x1, y1, x2, y2):\n",
        "  x = (x2 - x1) ** 2\n",
        "  y = (y2 - y1) ** 2\n",
        "  d = math.sqrt(x + y)\n",
        "  return d\n",
        "\n",
        "\n",
        "llamada = distancia(1, 1, 2, 2)\n",
        "print(\"La distania entre los puntos es:\",llamada)\n"
      ],
      "metadata": {
        "id": "rKes7ySm8LJy",
        "outputId": "8c289719-cfe3-4077-fda3-2a88fdbcb6f3",
        "colab": {
          "base_uri": "https://localhost:8080/"
        }
      },
      "execution_count": null,
      "outputs": [
        {
          "output_type": "stream",
          "name": "stdout",
          "text": [
            "La distania entre los puntos es: 1.4142135623730951\n"
          ]
        }
      ]
    },
    {
      "cell_type": "markdown",
      "source": [
        "#**Ejercicio 11**:\n",
        "Programe un script que determine si dos rectas dadas por las ecuaciones y1=m1x + b1 y y2=m2x+b2 se\n",
        "intersectan, son paralelas o coincidentes. Utilice estructuras de control (IF - ELSE)\n",
        "para manejar los diferentes casos.\n"
      ],
      "metadata": {
        "id": "YZ1CmeGNUfd6"
      }
    },
    {
      "cell_type": "code",
      "source": [
        "m1 = float(input(\"Ingresa la pendiente de la primer recta:\"))\n",
        "m2 = float(input(\"Ingresa la pendiente de la segunda recta:\"))\n",
        "\n",
        "b1 = float(input(\"Ingresa la ordenada de origen de la primer recta: \"))\n",
        "b2 = float(input(\"Ingresa la ordenada de origen de la segunda recta: \"))\n",
        "\n",
        "\n",
        "m = m1 * m2\n",
        "\n",
        "if m < 0:\n",
        "  print(\"Las rectas se intersectan!\")\n",
        "elif  m1 == m2 and not b2 == b1:\n",
        "  print(\"Las rectas son paralelas!\")\n",
        "elif m1 == m2 and b2 == b1:\n",
        "  print(\"Las rectas son coicidentes!\")\n",
        "else:\n",
        "  print(\"Viva ciencias!\")"
      ],
      "metadata": {
        "id": "oTNVz98W8LuZ",
        "outputId": "6c8e89e4-63d9-4c90-f87e-efc9b8d2aa28",
        "colab": {
          "base_uri": "https://localhost:8080/"
        }
      },
      "execution_count": null,
      "outputs": [
        {
          "output_type": "stream",
          "name": "stdout",
          "text": [
            "Ingresa la pendiente de la primer recta:3\n",
            "Ingresa la pendiente de la segunda recta:2\n",
            "Ingresa la ordenada de origen de la primer recta: 3\n",
            "Ingresa la ordenada de origen de la segunda recta: 8\n",
            "Viva ciencias!\n"
          ]
        }
      ]
    },
    {
      "cell_type": "markdown",
      "source": [
        "#**Ejercicio 12**:\n",
        "Iván y Miguel quieren jugar a los dados con las siguientes reglas:\n",
        "\n",
        "    Si sale 1, vuelven a lanzar.\n",
        "    Si sale 6, quedan empatados.\n",
        "    Si sale 2 ó 3 gana Iván.\n",
        "    Si sale 4 ó 5 gana Miguel.\n",
        "\n",
        "Haga un programa que le permita jugar a Iván y Miguel utilizando el condicional while. Se debe imprimir el mensaje de acuerdo a las reglas establecidas.\n",
        "**Hint** = Utilice la librería random para generar los números aleatorios."
      ],
      "metadata": {
        "id": "qdHirPx6I2ib"
      }
    },
    {
      "cell_type": "code",
      "source": [
        "import random\n",
        "x = random.randrange(1,7)\n",
        "\n",
        "while x == 1:\n",
        "  print(x)\n",
        "  x = random.randrange(1,7)\n",
        "else:\n",
        "  if x == 2 or x == 3:\n",
        "    print(\"Ivan gana!\")\n",
        "  elif x == 4 or x == 5:\n",
        "    print(\"Miguel gana!\")\n",
        "  else:\n",
        "    print(\"Quedan empatados!\")\n"
      ],
      "metadata": {
        "id": "dDHP_-CG8Nqg",
        "outputId": "b55002fc-2254-4b19-adc3-046c9d334ae2",
        "colab": {
          "base_uri": "https://localhost:8080/"
        }
      },
      "execution_count": null,
      "outputs": [
        {
          "output_type": "stream",
          "name": "stdout",
          "text": [
            "1\n",
            "Quedan empatados!\n"
          ]
        }
      ]
    }
  ]
}