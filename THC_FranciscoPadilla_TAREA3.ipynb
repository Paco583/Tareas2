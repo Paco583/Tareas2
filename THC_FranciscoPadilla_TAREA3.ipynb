{
  "nbformat": 4,
  "nbformat_minor": 0,
  "metadata": {
    "colab": {
      "provenance": []
    },
    "kernelspec": {
      "name": "python3",
      "display_name": "Python 3"
    },
    "language_info": {
      "name": "python"
    }
  },
  "cells": [
    {
      "cell_type": "markdown",
      "source": [
        "1) **Calculadora Simple **\n",
        "Crea un programa que solicite al usuario dos números y realice operaciones básicas como suma, resta, multiplicación y división. Muestra los resultados usando variables."
      ],
      "metadata": {
        "id": "kEDd5yJ-UuAB"
      }
    },
    {
      "cell_type": "code",
      "source": [
        "num2 = round(float(input(\"Ingresa un nunumero: \")))\n",
        "num1 = round(float(input(\"Ingresa otro numero: \")))\n",
        "\n",
        "sum = round(num1 + num2)\n",
        "res = round(num1 - num2)\n",
        "prod = round(num1*num2)\n",
        "div = round(num1/num2)\n",
        "\n",
        "print(\"La suma de\", num1, \"y\", num2, \"es\", sum)\n",
        "print(\"La resta de\", num1, \"y\", num2, \"es\", res)\n",
        "print(\"La producto de\", num1, \"y\", num2, \"es\", prod)\n",
        "print(\"La divicion de\", num1, \"y\", num2, \"es\", div)"
      ],
      "metadata": {
        "colab": {
          "base_uri": "https://localhost:8080/"
        },
        "collapsed": true,
        "id": "aIpWsXvuU2bV",
        "outputId": "04d7cef0-f2cc-47b6-af29-2189f73edcf5"
      },
      "execution_count": null,
      "outputs": [
        {
          "output_type": "stream",
          "name": "stdout",
          "text": [
            "Ingresa un nunumero: 9\n",
            "Ingresa otro numero: 8\n",
            "La suma de 8 y 9 es 17\n",
            "La resta de 8 y 9 es -1\n",
            "La producto de 8 y 9 es 72\n",
            "La divicion de 8 y 9 es 1\n"
          ]
        }
      ]
    },
    {
      "cell_type": "markdown",
      "source": [
        "2)**Conversión de Temperaturas**\n",
        "Escribe un programa que permita al usuario ingresar una temperatura en grados Celsius y luego la convierta a grados Fahrenheit utilizando una variable para almacenar la fórmula de conversión."
      ],
      "metadata": {
        "id": "Yuuk2LXMfZ63"
      }
    },
    {
      "cell_type": "code",
      "source": [
        "tempc = int(input(\"Ingresa una temperatura en grados Celsius: \"))\n",
        "\n",
        "if tempc>0 or tempc<0:\n",
        "    tempf = (tempc*9/5)+32\n",
        "    print(tempc,\"grados Celcius son\",tempf,\"grados Fahrenheit\")\n",
        "else:\n",
        "  print(\"0 grados Celcius son 32 grados Fahrenheit\")\n"
      ],
      "metadata": {
        "id": "uKB2BiPpgnQL",
        "colab": {
          "base_uri": "https://localhost:8080/"
        },
        "outputId": "070fe578-a102-4d8f-ea80-d06c0dc7e8d1"
      },
      "execution_count": null,
      "outputs": [
        {
          "output_type": "stream",
          "name": "stdout",
          "text": [
            "Ingresa una temperatura en grados Celsius: 1\n",
            "1 grados Celcius son 34 grados Fahrenheit\n"
          ]
        }
      ]
    },
    {
      "cell_type": "markdown",
      "source": [
        "**3)Contador de Palabras**\n",
        "Crea un programa que tome una cadena de texto ingresada por el usuario y cuente cuántas palabras contiene. Utiliza una variable para mantener el contador."
      ],
      "metadata": {
        "id": "z-vUK5J1H1rz"
      }
    },
    {
      "cell_type": "code",
      "source": [
        "pal = str(input(\"Ingresa tu texto: \"))\n",
        "palsep = pal.split()\n",
        "numpal = len(palsep)\n",
        "\n",
        "\n",
        "print(\"Tu texto tiene\",numpal,\"palabras\")"
      ],
      "metadata": {
        "colab": {
          "base_uri": "https://localhost:8080/",
          "height": 414
        },
        "id": "18ZfrjUfH78j",
        "outputId": "fcc73f4f-02f6-40e8-efa6-4729974bb2cd",
        "collapsed": true
      },
      "execution_count": null,
      "outputs": [
        {
          "output_type": "error",
          "ename": "KeyboardInterrupt",
          "evalue": "Interrupted by user",
          "traceback": [
            "\u001b[0;31m---------------------------------------------------------------------------\u001b[0m",
            "\u001b[0;31mKeyboardInterrupt\u001b[0m                         Traceback (most recent call last)",
            "\u001b[0;32m<ipython-input-44-6e0973841174>\u001b[0m in \u001b[0;36m<cell line: 1>\u001b[0;34m()\u001b[0m\n\u001b[0;32m----> 1\u001b[0;31m \u001b[0mpal\u001b[0m \u001b[0;34m=\u001b[0m \u001b[0mstr\u001b[0m\u001b[0;34m(\u001b[0m\u001b[0minput\u001b[0m\u001b[0;34m(\u001b[0m\u001b[0;34m\"Ingresa tu texto: \"\u001b[0m\u001b[0;34m)\u001b[0m\u001b[0;34m)\u001b[0m\u001b[0;34m\u001b[0m\u001b[0;34m\u001b[0m\u001b[0m\n\u001b[0m\u001b[1;32m      2\u001b[0m \u001b[0mpalsep\u001b[0m \u001b[0;34m=\u001b[0m \u001b[0mpal\u001b[0m\u001b[0;34m.\u001b[0m\u001b[0msplit\u001b[0m\u001b[0;34m(\u001b[0m\u001b[0;34m)\u001b[0m\u001b[0;34m\u001b[0m\u001b[0;34m\u001b[0m\u001b[0m\n\u001b[1;32m      3\u001b[0m \u001b[0mnumpal\u001b[0m \u001b[0;34m=\u001b[0m \u001b[0mlen\u001b[0m\u001b[0;34m(\u001b[0m\u001b[0mpalsep\u001b[0m\u001b[0;34m)\u001b[0m\u001b[0;34m\u001b[0m\u001b[0;34m\u001b[0m\u001b[0m\n\u001b[1;32m      4\u001b[0m \u001b[0;34m\u001b[0m\u001b[0m\n\u001b[1;32m      5\u001b[0m \u001b[0;34m\u001b[0m\u001b[0m\n",
            "\u001b[0;32m/usr/local/lib/python3.10/dist-packages/ipykernel/kernelbase.py\u001b[0m in \u001b[0;36mraw_input\u001b[0;34m(self, prompt)\u001b[0m\n\u001b[1;32m    849\u001b[0m                 \u001b[0;34m\"raw_input was called, but this frontend does not support input requests.\"\u001b[0m\u001b[0;34m\u001b[0m\u001b[0;34m\u001b[0m\u001b[0m\n\u001b[1;32m    850\u001b[0m             )\n\u001b[0;32m--> 851\u001b[0;31m         return self._input_request(str(prompt),\n\u001b[0m\u001b[1;32m    852\u001b[0m             \u001b[0mself\u001b[0m\u001b[0;34m.\u001b[0m\u001b[0m_parent_ident\u001b[0m\u001b[0;34m,\u001b[0m\u001b[0;34m\u001b[0m\u001b[0;34m\u001b[0m\u001b[0m\n\u001b[1;32m    853\u001b[0m             \u001b[0mself\u001b[0m\u001b[0;34m.\u001b[0m\u001b[0m_parent_header\u001b[0m\u001b[0;34m,\u001b[0m\u001b[0;34m\u001b[0m\u001b[0;34m\u001b[0m\u001b[0m\n",
            "\u001b[0;32m/usr/local/lib/python3.10/dist-packages/ipykernel/kernelbase.py\u001b[0m in \u001b[0;36m_input_request\u001b[0;34m(self, prompt, ident, parent, password)\u001b[0m\n\u001b[1;32m    893\u001b[0m             \u001b[0;32mexcept\u001b[0m \u001b[0mKeyboardInterrupt\u001b[0m\u001b[0;34m:\u001b[0m\u001b[0;34m\u001b[0m\u001b[0;34m\u001b[0m\u001b[0m\n\u001b[1;32m    894\u001b[0m                 \u001b[0;31m# re-raise KeyboardInterrupt, to truncate traceback\u001b[0m\u001b[0;34m\u001b[0m\u001b[0;34m\u001b[0m\u001b[0m\n\u001b[0;32m--> 895\u001b[0;31m                 \u001b[0;32mraise\u001b[0m \u001b[0mKeyboardInterrupt\u001b[0m\u001b[0;34m(\u001b[0m\u001b[0;34m\"Interrupted by user\"\u001b[0m\u001b[0;34m)\u001b[0m \u001b[0;32mfrom\u001b[0m \u001b[0;32mNone\u001b[0m\u001b[0;34m\u001b[0m\u001b[0;34m\u001b[0m\u001b[0m\n\u001b[0m\u001b[1;32m    896\u001b[0m             \u001b[0;32mexcept\u001b[0m \u001b[0mException\u001b[0m \u001b[0;32mas\u001b[0m \u001b[0me\u001b[0m\u001b[0;34m:\u001b[0m\u001b[0;34m\u001b[0m\u001b[0;34m\u001b[0m\u001b[0m\n\u001b[1;32m    897\u001b[0m                 \u001b[0mself\u001b[0m\u001b[0;34m.\u001b[0m\u001b[0mlog\u001b[0m\u001b[0;34m.\u001b[0m\u001b[0mwarning\u001b[0m\u001b[0;34m(\u001b[0m\u001b[0;34m\"Invalid Message:\"\u001b[0m\u001b[0;34m,\u001b[0m \u001b[0mexc_info\u001b[0m\u001b[0;34m=\u001b[0m\u001b[0;32mTrue\u001b[0m\u001b[0;34m)\u001b[0m\u001b[0;34m\u001b[0m\u001b[0;34m\u001b[0m\u001b[0m\n",
            "\u001b[0;31mKeyboardInterrupt\u001b[0m: Interrupted by user"
          ]
        }
      ]
    },
    {
      "cell_type": "markdown",
      "source": [
        "**4)Cálculo del Promedio:** Escribe un programa que permita al usuario ingresar una lista de números separados por comas y luego calcule su promedio utilizando variables."
      ],
      "metadata": {
        "id": "DjLxjCCNIQxK"
      }
    },
    {
      "cell_type": "code",
      "source": [
        "num = list(input(\"Ingresa tus numeros separados por comas: \"))\n",
        "#print(num)\n",
        "comas = num.count(\",\")\n",
        "#print(comas)\n",
        "\n",
        "while comas>0:\n",
        "  num.remove(\",\")\n",
        "  comas = num.count(\",\")\n",
        "  #print(comas)\n",
        "\n",
        "if comas == 0:\n",
        "  #print(num)\n",
        "  num = [float(nums) for nums in num]\n",
        "  #print(num)\n",
        "\n",
        "dividendo = sum(num)\n",
        "#print(dividendo)\n",
        "divisor = len(num)\n",
        "#print(divisor)\n",
        "\n",
        "prom = dividendo/divisor\n",
        "#print(prom)\n",
        "print(\"El promedio de los numeros ingresados es \", prom)"
      ],
      "metadata": {
        "colab": {
          "base_uri": "https://localhost:8080/"
        },
        "id": "e1JAWVbfnmGT",
        "outputId": "f9fb96db-b696-4e24-99c7-79d6b3a254dd",
        "collapsed": true
      },
      "execution_count": 22,
      "outputs": [
        {
          "output_type": "stream",
          "name": "stdout",
          "text": [
            "Ingresa tus numeros separados por comas: 1,3,4,56,7\n",
            "El promedio de los numeros ingresados es  4.333333333333333\n"
          ]
        }
      ]
    },
    {
      "cell_type": "markdown",
      "source": [
        "**5)Registro de Estudiantes:** Crea un programa que permita a un profesor registrar los nombres y calificaciones de varios estudiantes. Utiliza variables para almacenar los nombres, calificaciones y calcular el promedio."
      ],
      "metadata": {
        "id": "TYzAH84wIbtM"
      }
    },
    {
      "cell_type": "code",
      "source": [
        "import pandas as pd\n",
        "print(\"Ingrese los doatos solicidados separados por espacios pls\")\n",
        "noms = str(input(\"Nombres de sus estudiantes: \"))\n",
        "califs = str(input(\"Calificaciones en el mismo orden: \"))\n",
        "nomsl = noms.split()\n",
        "califsl = califs.split()\n",
        "#print(nomsl)\n",
        "#print(califsl)\n",
        "\n",
        "datos = {\n",
        "    \"Nombre\" : nomsl,\n",
        "    \"Calificacion\": califsl\n",
        "}\n",
        "dataframe = pd.DataFrame(datos)\n",
        "print(dataframe)\n",
        "\n",
        "califsl = [float(nums) for nums in califsl]\n",
        "#print(califsl)\n",
        "\n",
        "suma = sum(califsl)\n",
        "div = len(califsl)\n",
        "prom =suma/div\n",
        "print(\"El promedio de su salon es:\",prom)"
      ],
      "metadata": {
        "colab": {
          "base_uri": "https://localhost:8080/"
        },
        "collapsed": true,
        "id": "tFw60H1B0tdo",
        "outputId": "74fc57df-9abb-4e63-df53-fea277a7974d"
      },
      "execution_count": 60,
      "outputs": [
        {
          "output_type": "stream",
          "name": "stdout",
          "text": [
            "Ingrese los doatos solicidados separados por espacios pls\n",
            "Nombres de sus estudiantes: Sergio Perez Fernando Alonso Carlos Sainz \n",
            "Calificaciones en el mismo orden: 8 7 9 10 8 9 \n",
            "     Nombre Calificacion\n",
            "0    Sergio            8\n",
            "1     Perez            7\n",
            "2  Fernando            9\n",
            "3    Alonso           10\n",
            "4    Carlos            8\n",
            "5     Sainz            9\n",
            "El promedio de su salon es: 8.5\n"
          ]
        }
      ]
    },
    {
      "cell_type": "markdown",
      "source": [
        "**6)Comentarios Descriptivos 2:** Escribe un programa simple que realice una tarea específica, como calcular el área de un rectángulo o imprimir una tabla de multiplicar. Agrega comentarios descriptivos en el código para explicar cada paso del proceso."
      ],
      "metadata": {
        "id": "3cPR3bYAIvgv"
      }
    },
    {
      "cell_type": "code",
      "source": [
        "#Calculadora de funciones cuadraticas\n",
        "\n",
        "#Imprimimos cual es la funcion del programa\n",
        "print(\"Calculador de ecuaciones de la forma ax^2+bx+c=0\")\n",
        "\n",
        "#Solicitamos las variables de la ecuacion a calcular\n",
        "a = int(input(\"Ingresa la 'a' de tu ecuacion: \"))   #Pedimos la \"a\"\n",
        "b = int(input(\"Ingresa la 'b' de tu ecuacion: \"))   #Pedimos la \"b\"\n",
        "c = int(input(\"Ingresa la 'c' de tu ecuacion: \"))   #Pedimos la \"c\"\n",
        "\n",
        "#Ahora solicitamos el valor de x en la ecuacion\n",
        "x = int(input(\"Que valor tomará la 'x'?\"))\n",
        "\n",
        "#Calculamos las variables menos la independiente\n",
        "A = a*x^2\n",
        "B = b*x\n",
        "\n",
        "#Realizamos la suma de las todas las variables\n",
        "resultado = A + B + c\n",
        "\n",
        "#Obtenemos el resultado y lo imprimimos\n",
        "print(\"Cuando x =\",x,\"el valor de la ecuacion\",a,\"x^2\"+\"+\",b,\"x\",c,\" es \",resultado)"
      ],
      "metadata": {
        "colab": {
          "base_uri": "https://localhost:8080/"
        },
        "id": "ixD2CMbGPtds",
        "outputId": "033357e6-c371-421e-e733-621c12703351"
      },
      "execution_count": 66,
      "outputs": [
        {
          "output_type": "stream",
          "name": "stdout",
          "text": [
            "Calculador de ecuaciones de la forma ax^2+bx+c=0\n",
            "Ingresa la 'a' de tu ecuacion: 2\n",
            "Ingresa la 'b' de tu ecuacion: 3\n",
            "Ingresa la 'c' de tu ecuacion: 4\n",
            "Que valor tomará la 'x'?1\n",
            "Cuando x = 1 el valor de la ecuacion 2 x^2+ 3 x 4  es  7\n"
          ]
        }
      ]
    },
    {
      "cell_type": "markdown",
      "source": [
        "**7)Comentarios Informativos 5:** Escribe un programa que resuelva un problema o realice una tarea interesante. Agrega comentarios informativos que expliquen la lógica detrás de cada paso importante del programa."
      ],
      "metadata": {
        "id": "2T4z0nFaI9UB"
      }
    },
    {
      "cell_type": "code",
      "source": [
        "#Importamos las librerias y paquetes a usar\n",
        "import numpy as np\n",
        "import math\n",
        "\n",
        "#Imprimimos lo que hace el programa\n",
        "print(\"Calculador de puntos criticos de ecuaciones de la forma ax^2+bx+c=0\")\n",
        "\n",
        "#Solicitamos las variables\n",
        "a = int(input(\"Ingresa la 'a' de tu ecuacion: \"))\n",
        "b = int(input(\"Ingresa la 'b' de tu ecuacion: \"))\n",
        "c = int(input(\"Ingresa la 'c' de tu ecuacion: \"))\n",
        "\n",
        "#A diferencia de la anterior ya nos importa el valor de \"x\"\n",
        "\n",
        "#Calculamos la determinante de la ecuacion ya que esto nos dira si la solucion esta en los reales o imaginarios\n",
        "deter = b*b-4*a*c\n",
        "\n",
        "if deter < 0: #Si la determinante es menor a 0, significa que es negativa, por ende, al sacarle raiz cuadrada nos manda a los imaginarios\n",
        "  print(\"Tu ecuacion no tiene soluciones reales!\")\n",
        "  print(\"Los numeros imaginarios se desbloquean en Variable Compleja!\") #Como los imaginarios se ven hasta variable compleja, no sabemos que hacer jaja\n",
        "else: #Si no son negativos o son iguales o mayores a 0 por lo tanto tienen solucion en los reales\n",
        "  sol1 = (-b+math.sqrt(deter))/(2*a) #Obtenemos la x1\n",
        "  sol2 = (-b-math.sqrt(deter))/(2*a) #Obtenemos la x2\n",
        "\n",
        "  print(\"Tu ecuancion es 0 cuando  x = \",sol1,\"y x = \",sol2) #Listo!"
      ],
      "metadata": {
        "id": "9hoMtGa2JJxP",
        "colab": {
          "base_uri": "https://localhost:8080/"
        },
        "outputId": "3398eb76-e7d0-439a-f4e6-7767f4bb01c8"
      },
      "execution_count": 79,
      "outputs": [
        {
          "output_type": "stream",
          "name": "stdout",
          "text": [
            "Calculador de ecuaciones de la forma ax^2+bx+c=0\n",
            "Ingresa la 'a' de tu ecuacion: 1\n",
            "Ingresa la 'b' de tu ecuacion: 2\n",
            "Ingresa la 'c' de tu ecuacion: 1\n",
            "Tu ecuancion es 0 cuando  x =  -1.0 y x =  -1.0\n"
          ]
        }
      ]
    },
    {
      "cell_type": "markdown",
      "source": [
        "**8)Creación de un Programa con Comentarios de Uso 9:** Escribe un programa que sea útil para los usuarios. Agrega comentarios al principio del programa que expliquen cómo se usa el programa y qué se espera que hagan los usuarios."
      ],
      "metadata": {
        "id": "DXPc6u2RJNnT"
      }
    },
    {
      "cell_type": "code",
      "source": [
        "\"\"\"El programa es una \"calculadora\" basica de propinas, el programa esta pensado para\n",
        "que uno solo ponga el total de una comida y de acuerdo a su nivel de satisfaccion con\n",
        "el servicio este escoja un porcentaje de propina, con estos dos datos el programa dara\n",
        "el total a pagar con el porcentaje de propina que se puso en el programa \"\"\"\n",
        "\n",
        "total = int(input(\"Ingresa el Total de tu comida: \"))\n",
        "if total < 0 or total == 0:\n",
        "  print(\"Ingrese un numero valido\")\n",
        "else:\n",
        "  print(\"Considere estos porcentajes en base a su nivel de satisfaccion en el servicio; Malo:0% Bueno:15% Exelente:20%\")\n",
        "\n",
        "propina = int(input(\"Que porcentaje le gustaria dar de propina?Sin porcentaje: \"))\n",
        "\n",
        "if propina < 0 or propina == 0:\n",
        "  print(\"Ingrese un numero valido\")\n",
        "\n",
        "else:\n",
        "  propina_real = total * (propina/100)\n",
        "  pago_total = propina_real + total\n",
        "\n",
        "print(\"Para un comida de\", total, \"con una propina de\", propina, \"pagaria\", pago_total)\n",
        "\n",
        "\n"
      ],
      "metadata": {
        "id": "qqCBvq4FJarP",
        "colab": {
          "base_uri": "https://localhost:8080/"
        },
        "outputId": "1df7b136-e24f-436e-f3a2-f689adc700e8"
      },
      "execution_count": 98,
      "outputs": [
        {
          "output_type": "stream",
          "name": "stdout",
          "text": [
            "Ingresa el Total de tu comida: 100\n",
            "Considere estos porcentajes en base a su nivel de satisfaccion en el servicio; Malo:0% Bueno:15% Exelente:20%\n",
            "Que porcentaje le gustaria dar de propina?Sin porcentaje25\n",
            "Para un comida de 100 con una propina de 25 pagaria 125.0\n"
          ]
        }
      ]
    },
    {
      "cell_type": "markdown",
      "source": [
        "Gracias y disculpe la demora, un saludo."
      ],
      "metadata": {
        "id": "K6mZhMZPrRRk"
      }
    }
  ]
}